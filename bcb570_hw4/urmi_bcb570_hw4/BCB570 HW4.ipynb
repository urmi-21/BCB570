{
 "cells": [
  {
   "cell_type": "markdown",
   "metadata": {},
   "source": []
  },
  {
   "cell_type": "markdown",
   "metadata": {},
   "source": [
    "<h2><center>Urminder Singh</center></h2>"
   ]
  },
  {
   "cell_type": "code",
   "execution_count": 5,
   "metadata": {},
   "outputs": [
    {
     "name": "stdout",
     "output_type": "stream",
     "text": [
      "\u001b[1mResults for input file: goa_human.gaf \u001b[0m\n",
      "Total proteins: 19502\n",
      "Total proteins with experimental evidence: 13619 fraction: 69.8338631935\n",
      "Total proteins without experimental evidence: 5883  fraction: 30.1661368065\n",
      "\u001b[1mResults for input file: goa_cow.gaf \u001b[0m\n",
      "Total proteins: 20193\n",
      "Total proteins with experimental evidence: 671 fraction: 3.32293368989\n",
      "Total proteins without experimental evidence: 19522  fraction: 96.6770663101\n",
      "\u001b[1mResults for input file: goa_rat.gaf \u001b[0m\n",
      "Total proteins: 19710\n",
      "Total proteins with experimental evidence: 5641 fraction: 28.6199898529\n",
      "Total proteins without experimental evidence: 14069  fraction: 71.3800101471\n",
      "\u001b[1mResults for input file: goa_mouse.gaf \u001b[0m\n",
      "Total proteins: 21691\n",
      "Total proteins with experimental evidence: 11272 fraction: 51.9662532848\n",
      "Total proteins without experimental evidence: 10419  fraction: 48.0337467152\n",
      "\u001b[1mResults for input file: goa_zebrafish.gaf \u001b[0m\n",
      "Total proteins: 21842\n",
      "Total proteins with experimental evidence: 4229 fraction: 19.3617800568\n",
      "Total proteins without experimental evidence: 17613  fraction: 80.6382199432\n"
     ]
    }
   ],
   "source": [
    "\n",
    "'''\n",
    "This file reads .gaf files and finds out the annotation statistics\n",
    "[1]--> file path\n",
    "Urminder Singh\n",
    "'''\n",
    "from __future__ import division\n",
    "import sys\n",
    "import Bio.UniProt.GOA\n",
    "import tabletext\n",
    "\n",
    "class bcolors:\n",
    "    HEADER = '\\033[95m'\n",
    "    OKBLUE = '\\033[94m'\n",
    "    OKGREEN = '\\033[92m'\n",
    "    WARNING = '\\033[93m'\n",
    "    FAIL = '\\033[91m'\n",
    "    ENDC = '\\033[0m'\n",
    "    BOLD = '\\033[1m'\n",
    "    UNDERLINE = '\\033[4m'\n",
    "    \n",
    "#read .gaf file with gafiterator\n",
    "\n",
    "infiles=[\"goa_human.gaf\",\"goa_cow.gaf\",\"goa_rat.gaf\",\"goa_mouse.gaf\",\"goa_zebrafish.gaf\"]\n",
    "tProt=[\"Total Proteins\"]\n",
    "eProt=[\"Prots with exp evidence\"]\n",
    "neProt=[\"Prots with no exp evidence\"]\n",
    "perc=[\"%Prots with exp evidence\"]\n",
    "exp_ids=([\"EXP\",\"IDA\",\"IPI\",\"IMP\",\"IGI\",\"IEP\"])\n",
    "\n",
    "for f in infiles:\n",
    "    prots_exp=[]\n",
    "    evd_exp=[]\n",
    "    prots_all=[]\n",
    "    with open(f, 'r') as handle:\n",
    "        for rec in Bio.UniProt.GOA.gafiterator(handle):\n",
    "            #make two different lists for experimentally verified and other type of prots\n",
    "            prots_all.append(rec[\"DB_Object_ID\"])\n",
    "            if rec[\"Evidence\"] in exp_ids:\n",
    "                prots_exp.append(rec[\"DB_Object_ID\"])\n",
    "                evd_exp.append(rec[\"Evidence\"])\n",
    "    #remove redundant entries\n",
    "    totalprots=len(set(prots_all))\n",
    "    num_exp_prots=len(set(prots_exp))\n",
    "    num_noexp_prots=totalprots-num_exp_prots\n",
    "    print bcolors.BOLD +'Results for input file:',f,bcolors.ENDC\n",
    "    print 'Total proteins:',totalprots\n",
    "    print 'Total proteins with experimental evidence:', num_exp_prots,'fraction:',(num_exp_prots/totalprots*100)\n",
    "    print 'Total proteins without experimental evidence:', num_noexp_prots,' fraction:',(num_noexp_prots/totalprots*100)\n",
    "    \n",
    "    #data for table\n",
    "    tProt.append(totalprots)\n",
    "    eProt.append(num_exp_prots)\n",
    "    neProt.append(num_noexp_prots)\n",
    "    perc.append(format((num_exp_prots/totalprots*100), '.2f'))\n",
    "\n"
   ]
  },
  {
   "cell_type": "code",
   "execution_count": 6,
   "metadata": {},
   "outputs": [
    {
     "name": "stdout",
     "output_type": "stream",
     "text": [
      "\u001b[1m\u001b[95m\t\t\t\n",
      "\n",
      "Table 1. Results for the input files\u001b[0m\n",
      "┌────────────────────────────┬───────┬───────┬───────┬───────┬───────────┐\n",
      "│                            │ human │ cow   │ rat   │ mouse │ zebrafish │\n",
      "├────────────────────────────┼───────┼───────┼───────┼───────┼───────────┤\n",
      "│ Total Proteins             │ 19502 │ 20193 │ 19710 │ 21691 │     21842 │\n",
      "├────────────────────────────┼───────┼───────┼───────┼───────┼───────────┤\n",
      "│ Prots with exp evidence    │ 13619 │   671 │  5641 │ 11272 │      4229 │\n",
      "├────────────────────────────┼───────┼───────┼───────┼───────┼───────────┤\n",
      "│ Prots with no exp evidence │  5883 │ 19522 │ 14069 │ 10419 │     17613 │\n",
      "├────────────────────────────┼───────┼───────┼───────┼───────┼───────────┤\n",
      "│ %Prots with exp evidence   │ 69.83 │ 3.32  │ 28.62 │ 51.97 │ 19.36     │\n",
      "└────────────────────────────┴───────┴───────┴───────┴───────┴───────────┘\n"
     ]
    }
   ],
   "source": [
    "#print final table\n",
    "print bcolors.BOLD + bcolors.HEADER+'\\t\\t\\t\\n\\nTable 1. Results for the input files'+bcolors.ENDC\n",
    "tdata=[]\n",
    "header=[\"\",\"human\",\"cow\",\"rat\",\"mouse\",\"zebrafish\"]\n",
    "tdata=[header,tProt,eProt,neProt,perc]\n",
    "print tabletext.to_text(tdata)\n"
   ]
  },
  {
   "cell_type": "markdown",
   "metadata": {},
   "source": [
    "Table 1 summarizes all the results found by this script. If we look at raw numbers humans have most number of annotated proteins i.e. 13,619. If we compare the percent of proteins experimentally verified, we again see that human have the most i.e. 69.83% followed by mouse which has almost 52% of proteins experimentally verified."
   ]
  },
  {
   "cell_type": "code",
   "execution_count": null,
   "metadata": {},
   "outputs": [],
   "source": []
  }
 ],
 "metadata": {
  "kernelspec": {
   "display_name": "Python 2",
   "language": "python",
   "name": "python2"
  },
  "language_info": {
   "codemirror_mode": {
    "name": "ipython",
    "version": 2
   },
   "file_extension": ".py",
   "mimetype": "text/x-python",
   "name": "python",
   "nbconvert_exporter": "python",
   "pygments_lexer": "ipython2",
   "version": "2.7.14"
  }
 },
 "nbformat": 4,
 "nbformat_minor": 2
}
